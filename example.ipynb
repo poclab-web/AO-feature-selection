{
  "nbformat": 4,
  "nbformat_minor": 0,
  "metadata": {
    "colab": {
      "provenance": [],
      "toc_visible": true,
      "include_colab_link": true
    },
    "kernelspec": {
      "name": "python3",
      "display_name": "Python 3"
    },
    "language_info": {
      "name": "python"
    }
  },
  "cells": [
    {
      "cell_type": "markdown",
      "metadata": {
        "id": "view-in-github",
        "colab_type": "text"
      },
      "source": [
        "<a href=\"https://colab.research.google.com/github/poclab-web/AO-feature-selection/blob/main/example.ipynb\" target=\"_parent\"><img src=\"https://colab.research.google.com/assets/colab-badge.svg\" alt=\"Open In Colab\"/></a>"
      ]
    },
    {
      "cell_type": "markdown",
      "source": [
        "## 使用したファイル"
      ],
      "metadata": {
        "id": "5ftPufxwwyT8"
      }
    },
    {
      "cell_type": "markdown",
      "source": [
        "その１　IASOからdownloadして加工したファイル"
      ],
      "metadata": {
        "id": "wMR5hfA5xGbg"
      }
    },
    {
      "cell_type": "markdown",
      "source": [
        "https://github.com/poclab-web/reagents_stock/blob/main/data/gotoh-lab-data_20231030.xlsx"
      ],
      "metadata": {
        "id": "m3JJXNhlxBST"
      }
    },
    {
      "cell_type": "markdown",
      "source": [
        "その２　使用化合物のリスト"
      ],
      "metadata": {
        "id": "u-AHrSqIxLNR"
      }
    },
    {
      "cell_type": "markdown",
      "source": [
        "https://github.com/poclab-web/reagents_stock/blob/main/data/measured_dpph_20231030.xlsx"
      ],
      "metadata": {
        "id": "TzPG7Gjhyu71"
      }
    },
    {
      "cell_type": "markdown",
      "source": [
        "## 読み込み"
      ],
      "metadata": {
        "id": "-9RiwakdqV_W"
      }
    },
    {
      "cell_type": "code",
      "execution_count": null,
      "metadata": {
        "colab": {
          "base_uri": "https://localhost:8080/",
          "height": 231
        },
        "id": "RDBOVqyupDO5",
        "outputId": "468875b6-23be-4303-86a7-073ca7ab653e"
      },
      "outputs": [
        {
          "output_type": "execute_result",
          "data": {
            "text/plain": [
              "            SMILES      name  Synthetic or Reagents  Reagents company  \\\n",
              "No                                                                      \n",
              "1   COC1=CC=CC=C1O  guaiacol                    NaN               NaN   \n",
              "\n",
              "    Reagents No IC50 [mg/L]    std_50  Stoichio num.     std_n TEAC [gTE/g]  \\\n",
              "No                                                                            \n",
              "1           NaN   82.452164  2.828474       0.753397  0.026359     0.672927   \n",
              "\n",
              "    ...   WEIGHT   DIPOLE                           radical_min  \\\n",
              "No  ...                                                           \n",
              "1   ...  124.139  2.72402  LHGVFZTZFXWLCP-UHFFFAOYSA-N_17_r.arc   \n",
              "\n",
              "                               anion_min       BDE          IP       PDE  \\\n",
              "No                                                                         \n",
              "1   LHGVFZTZFXWLCP-UHFFFAOYSA-N_17_a.arc  78.45786  186.670043  96.55103   \n",
              "\n",
              "          PA        ETE                     inchikey  \n",
              "No                                                    \n",
              "1   282.4694  52.024773  LHGVFZTZFXWLCP-UHFFFAOYSA-N  \n",
              "\n",
              "[1 rows x 28 columns]"
            ],
            "text/html": [
              "\n",
              "  <div id=\"df-9067093c-7cff-4334-8e31-81c3526e3553\" class=\"colab-df-container\">\n",
              "    <div>\n",
              "<style scoped>\n",
              "    .dataframe tbody tr th:only-of-type {\n",
              "        vertical-align: middle;\n",
              "    }\n",
              "\n",
              "    .dataframe tbody tr th {\n",
              "        vertical-align: top;\n",
              "    }\n",
              "\n",
              "    .dataframe thead th {\n",
              "        text-align: right;\n",
              "    }\n",
              "</style>\n",
              "<table border=\"1\" class=\"dataframe\">\n",
              "  <thead>\n",
              "    <tr style=\"text-align: right;\">\n",
              "      <th></th>\n",
              "      <th>SMILES</th>\n",
              "      <th>name</th>\n",
              "      <th>Synthetic or Reagents</th>\n",
              "      <th>Reagents company</th>\n",
              "      <th>Reagents No</th>\n",
              "      <th>IC50 [mg/L]</th>\n",
              "      <th>std_50</th>\n",
              "      <th>Stoichio num.</th>\n",
              "      <th>std_n</th>\n",
              "      <th>TEAC [gTE/g]</th>\n",
              "      <th>...</th>\n",
              "      <th>WEIGHT</th>\n",
              "      <th>DIPOLE</th>\n",
              "      <th>radical_min</th>\n",
              "      <th>anion_min</th>\n",
              "      <th>BDE</th>\n",
              "      <th>IP</th>\n",
              "      <th>PDE</th>\n",
              "      <th>PA</th>\n",
              "      <th>ETE</th>\n",
              "      <th>inchikey</th>\n",
              "    </tr>\n",
              "    <tr>\n",
              "      <th>No</th>\n",
              "      <th></th>\n",
              "      <th></th>\n",
              "      <th></th>\n",
              "      <th></th>\n",
              "      <th></th>\n",
              "      <th></th>\n",
              "      <th></th>\n",
              "      <th></th>\n",
              "      <th></th>\n",
              "      <th></th>\n",
              "      <th></th>\n",
              "      <th></th>\n",
              "      <th></th>\n",
              "      <th></th>\n",
              "      <th></th>\n",
              "      <th></th>\n",
              "      <th></th>\n",
              "      <th></th>\n",
              "      <th></th>\n",
              "      <th></th>\n",
              "      <th></th>\n",
              "    </tr>\n",
              "  </thead>\n",
              "  <tbody>\n",
              "    <tr>\n",
              "      <th>1</th>\n",
              "      <td>COC1=CC=CC=C1O</td>\n",
              "      <td>guaiacol</td>\n",
              "      <td>NaN</td>\n",
              "      <td>NaN</td>\n",
              "      <td>NaN</td>\n",
              "      <td>82.452164</td>\n",
              "      <td>2.828474</td>\n",
              "      <td>0.753397</td>\n",
              "      <td>0.026359</td>\n",
              "      <td>0.672927</td>\n",
              "      <td>...</td>\n",
              "      <td>124.139</td>\n",
              "      <td>2.72402</td>\n",
              "      <td>LHGVFZTZFXWLCP-UHFFFAOYSA-N_17_r.arc</td>\n",
              "      <td>LHGVFZTZFXWLCP-UHFFFAOYSA-N_17_a.arc</td>\n",
              "      <td>78.45786</td>\n",
              "      <td>186.670043</td>\n",
              "      <td>96.55103</td>\n",
              "      <td>282.4694</td>\n",
              "      <td>52.024773</td>\n",
              "      <td>LHGVFZTZFXWLCP-UHFFFAOYSA-N</td>\n",
              "    </tr>\n",
              "  </tbody>\n",
              "</table>\n",
              "<p>1 rows × 28 columns</p>\n",
              "</div>\n",
              "    <div class=\"colab-df-buttons\">\n",
              "\n",
              "  <div class=\"colab-df-container\">\n",
              "    <button class=\"colab-df-convert\" onclick=\"convertToInteractive('df-9067093c-7cff-4334-8e31-81c3526e3553')\"\n",
              "            title=\"Convert this dataframe to an interactive table.\"\n",
              "            style=\"display:none;\">\n",
              "\n",
              "  <svg xmlns=\"http://www.w3.org/2000/svg\" height=\"24px\" viewBox=\"0 -960 960 960\">\n",
              "    <path d=\"M120-120v-720h720v720H120Zm60-500h600v-160H180v160Zm220 220h160v-160H400v160Zm0 220h160v-160H400v160ZM180-400h160v-160H180v160Zm440 0h160v-160H620v160ZM180-180h160v-160H180v160Zm440 0h160v-160H620v160Z\"/>\n",
              "  </svg>\n",
              "    </button>\n",
              "\n",
              "  <style>\n",
              "    .colab-df-container {\n",
              "      display:flex;\n",
              "      gap: 12px;\n",
              "    }\n",
              "\n",
              "    .colab-df-convert {\n",
              "      background-color: #E8F0FE;\n",
              "      border: none;\n",
              "      border-radius: 50%;\n",
              "      cursor: pointer;\n",
              "      display: none;\n",
              "      fill: #1967D2;\n",
              "      height: 32px;\n",
              "      padding: 0 0 0 0;\n",
              "      width: 32px;\n",
              "    }\n",
              "\n",
              "    .colab-df-convert:hover {\n",
              "      background-color: #E2EBFA;\n",
              "      box-shadow: 0px 1px 2px rgba(60, 64, 67, 0.3), 0px 1px 3px 1px rgba(60, 64, 67, 0.15);\n",
              "      fill: #174EA6;\n",
              "    }\n",
              "\n",
              "    .colab-df-buttons div {\n",
              "      margin-bottom: 4px;\n",
              "    }\n",
              "\n",
              "    [theme=dark] .colab-df-convert {\n",
              "      background-color: #3B4455;\n",
              "      fill: #D2E3FC;\n",
              "    }\n",
              "\n",
              "    [theme=dark] .colab-df-convert:hover {\n",
              "      background-color: #434B5C;\n",
              "      box-shadow: 0px 1px 3px 1px rgba(0, 0, 0, 0.15);\n",
              "      filter: drop-shadow(0px 1px 2px rgba(0, 0, 0, 0.3));\n",
              "      fill: #FFFFFF;\n",
              "    }\n",
              "  </style>\n",
              "\n",
              "    <script>\n",
              "      const buttonEl =\n",
              "        document.querySelector('#df-9067093c-7cff-4334-8e31-81c3526e3553 button.colab-df-convert');\n",
              "      buttonEl.style.display =\n",
              "        google.colab.kernel.accessAllowed ? 'block' : 'none';\n",
              "\n",
              "      async function convertToInteractive(key) {\n",
              "        const element = document.querySelector('#df-9067093c-7cff-4334-8e31-81c3526e3553');\n",
              "        const dataTable =\n",
              "          await google.colab.kernel.invokeFunction('convertToInteractive',\n",
              "                                                    [key], {});\n",
              "        if (!dataTable) return;\n",
              "\n",
              "        const docLinkHtml = 'Like what you see? Visit the ' +\n",
              "          '<a target=\"_blank\" href=https://colab.research.google.com/notebooks/data_table.ipynb>data table notebook</a>'\n",
              "          + ' to learn more about interactive tables.';\n",
              "        element.innerHTML = '';\n",
              "        dataTable['output_type'] = 'display_data';\n",
              "        await google.colab.output.renderOutput(dataTable, element);\n",
              "        const docLink = document.createElement('div');\n",
              "        docLink.innerHTML = docLinkHtml;\n",
              "        element.appendChild(docLink);\n",
              "      }\n",
              "    </script>\n",
              "  </div>\n",
              "\n",
              "    </div>\n",
              "  </div>\n"
            ]
          },
          "metadata": {},
          "execution_count": 8
        }
      ],
      "source": [
        "import pandas as pd\n",
        "df_reagents = pd.read_excel(\"/content/measured_dpph_20231030.xlsx\", index_col=0)\n",
        "df_reagents.head(1)"
      ]
    },
    {
      "cell_type": "code",
      "source": [
        "df_iaso = pd.read_excel(\"/content/gotoh-lab-data_20231030.xlsx\", index_col=0)\n",
        "df_iaso.head(1)"
      ],
      "metadata": {
        "id": "Jo8f1gatzLNg",
        "outputId": "6f191c3c-3442-41ae-ff5d-95790cb781aa",
        "colab": {
          "base_uri": "https://localhost:8080/",
          "height": 375
        }
      },
      "execution_count": null,
      "outputs": [
        {
          "output_type": "execute_result",
          "data": {
            "text/plain": [
              "        IASONo.     CAS No.                      smiles   内容量 内容量単位     比重  \\\n",
              "No                                                                           \n",
              "1   BAX00001018   7785-26-4  CC1=CC[C@H]2C[C@@H]1C2(C)C  25.0    ml  0.862   \n",
              "\n",
              "            Name          メーカー名       製品番号  price_yen  \n",
              "No                                                     \n",
              "1   (-)-α-Pinene  富士フイルム和光純薬(株)  169-21242     2200.0  "
            ],
            "text/html": [
              "\n",
              "  <div id=\"df-b90fb34c-7b0c-4cd1-aeca-90a85a99c746\" class=\"colab-df-container\">\n",
              "    <div>\n",
              "<style scoped>\n",
              "    .dataframe tbody tr th:only-of-type {\n",
              "        vertical-align: middle;\n",
              "    }\n",
              "\n",
              "    .dataframe tbody tr th {\n",
              "        vertical-align: top;\n",
              "    }\n",
              "\n",
              "    .dataframe thead th {\n",
              "        text-align: right;\n",
              "    }\n",
              "</style>\n",
              "<table border=\"1\" class=\"dataframe\">\n",
              "  <thead>\n",
              "    <tr style=\"text-align: right;\">\n",
              "      <th></th>\n",
              "      <th>IASONo.</th>\n",
              "      <th>CAS No.</th>\n",
              "      <th>smiles</th>\n",
              "      <th>内容量</th>\n",
              "      <th>内容量単位</th>\n",
              "      <th>比重</th>\n",
              "      <th>Name</th>\n",
              "      <th>メーカー名</th>\n",
              "      <th>製品番号</th>\n",
              "      <th>price_yen</th>\n",
              "    </tr>\n",
              "    <tr>\n",
              "      <th>No</th>\n",
              "      <th></th>\n",
              "      <th></th>\n",
              "      <th></th>\n",
              "      <th></th>\n",
              "      <th></th>\n",
              "      <th></th>\n",
              "      <th></th>\n",
              "      <th></th>\n",
              "      <th></th>\n",
              "      <th></th>\n",
              "    </tr>\n",
              "  </thead>\n",
              "  <tbody>\n",
              "    <tr>\n",
              "      <th>1</th>\n",
              "      <td>BAX00001018</td>\n",
              "      <td>7785-26-4</td>\n",
              "      <td>CC1=CC[C@H]2C[C@@H]1C2(C)C</td>\n",
              "      <td>25.0</td>\n",
              "      <td>ml</td>\n",
              "      <td>0.862</td>\n",
              "      <td>(-)-α-Pinene</td>\n",
              "      <td>富士フイルム和光純薬(株)</td>\n",
              "      <td>169-21242</td>\n",
              "      <td>2200.0</td>\n",
              "    </tr>\n",
              "  </tbody>\n",
              "</table>\n",
              "</div>\n",
              "    <div class=\"colab-df-buttons\">\n",
              "\n",
              "  <div class=\"colab-df-container\">\n",
              "    <button class=\"colab-df-convert\" onclick=\"convertToInteractive('df-b90fb34c-7b0c-4cd1-aeca-90a85a99c746')\"\n",
              "            title=\"Convert this dataframe to an interactive table.\"\n",
              "            style=\"display:none;\">\n",
              "\n",
              "  <svg xmlns=\"http://www.w3.org/2000/svg\" height=\"24px\" viewBox=\"0 -960 960 960\">\n",
              "    <path d=\"M120-120v-720h720v720H120Zm60-500h600v-160H180v160Zm220 220h160v-160H400v160Zm0 220h160v-160H400v160ZM180-400h160v-160H180v160Zm440 0h160v-160H620v160ZM180-180h160v-160H180v160Zm440 0h160v-160H620v160Z\"/>\n",
              "  </svg>\n",
              "    </button>\n",
              "\n",
              "  <style>\n",
              "    .colab-df-container {\n",
              "      display:flex;\n",
              "      gap: 12px;\n",
              "    }\n",
              "\n",
              "    .colab-df-convert {\n",
              "      background-color: #E8F0FE;\n",
              "      border: none;\n",
              "      border-radius: 50%;\n",
              "      cursor: pointer;\n",
              "      display: none;\n",
              "      fill: #1967D2;\n",
              "      height: 32px;\n",
              "      padding: 0 0 0 0;\n",
              "      width: 32px;\n",
              "    }\n",
              "\n",
              "    .colab-df-convert:hover {\n",
              "      background-color: #E2EBFA;\n",
              "      box-shadow: 0px 1px 2px rgba(60, 64, 67, 0.3), 0px 1px 3px 1px rgba(60, 64, 67, 0.15);\n",
              "      fill: #174EA6;\n",
              "    }\n",
              "\n",
              "    .colab-df-buttons div {\n",
              "      margin-bottom: 4px;\n",
              "    }\n",
              "\n",
              "    [theme=dark] .colab-df-convert {\n",
              "      background-color: #3B4455;\n",
              "      fill: #D2E3FC;\n",
              "    }\n",
              "\n",
              "    [theme=dark] .colab-df-convert:hover {\n",
              "      background-color: #434B5C;\n",
              "      box-shadow: 0px 1px 3px 1px rgba(0, 0, 0, 0.15);\n",
              "      filter: drop-shadow(0px 1px 2px rgba(0, 0, 0, 0.3));\n",
              "      fill: #FFFFFF;\n",
              "    }\n",
              "  </style>\n",
              "\n",
              "    <script>\n",
              "      const buttonEl =\n",
              "        document.querySelector('#df-b90fb34c-7b0c-4cd1-aeca-90a85a99c746 button.colab-df-convert');\n",
              "      buttonEl.style.display =\n",
              "        google.colab.kernel.accessAllowed ? 'block' : 'none';\n",
              "\n",
              "      async function convertToInteractive(key) {\n",
              "        const element = document.querySelector('#df-b90fb34c-7b0c-4cd1-aeca-90a85a99c746');\n",
              "        const dataTable =\n",
              "          await google.colab.kernel.invokeFunction('convertToInteractive',\n",
              "                                                    [key], {});\n",
              "        if (!dataTable) return;\n",
              "\n",
              "        const docLinkHtml = 'Like what you see? Visit the ' +\n",
              "          '<a target=\"_blank\" href=https://colab.research.google.com/notebooks/data_table.ipynb>data table notebook</a>'\n",
              "          + ' to learn more about interactive tables.';\n",
              "        element.innerHTML = '';\n",
              "        dataTable['output_type'] = 'display_data';\n",
              "        await google.colab.output.renderOutput(dataTable, element);\n",
              "        const docLink = document.createElement('div');\n",
              "        docLink.innerHTML = docLinkHtml;\n",
              "        element.appendChild(docLink);\n",
              "      }\n",
              "    </script>\n",
              "  </div>\n",
              "\n",
              "    </div>\n",
              "  </div>\n"
            ]
          },
          "metadata": {},
          "execution_count": 9
        }
      ]
    },
    {
      "cell_type": "markdown",
      "source": [
        "## 問題"
      ],
      "metadata": {
        "id": "VByDc0n7qeIr"
      }
    },
    {
      "cell_type": "code",
      "source": [],
      "metadata": {
        "id": "y4YKO28LqgQm"
      },
      "execution_count": null,
      "outputs": []
    },
    {
      "cell_type": "code",
      "source": [],
      "metadata": {
        "id": "sga4Y7axqgUA"
      },
      "execution_count": null,
      "outputs": []
    },
    {
      "cell_type": "code",
      "source": [],
      "metadata": {
        "id": "sBLzlF1lqgbi"
      },
      "execution_count": null,
      "outputs": []
    },
    {
      "cell_type": "markdown",
      "source": [
        "## 出力\n"
      ],
      "metadata": {
        "id": "sbIMdNtcqaLU"
      }
    },
    {
      "cell_type": "code",
      "source": [
        "df.to_excel('pandas_to_excel.xlsx', sheet_name='result')"
      ],
      "metadata": {
        "id": "mwZ7xeCmqU3g"
      },
      "execution_count": null,
      "outputs": []
    }
  ]
}